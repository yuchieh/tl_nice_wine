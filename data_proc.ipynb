{
 "cells": [
  {
   "cell_type": "markdown",
   "metadata": {},
   "source": [
    "# Data Preprocessing: Data Cleaning and Feature Generation "
   ]
  },
  {
   "cell_type": "code",
   "execution_count": null,
   "metadata": {},
   "outputs": [],
   "source": [
    "import numpy as np\n",
    "import pandas as pd\n",
    "import os, datetime\n",
    "import warnings\n",
    "warnings.filterwarnings('ignore')\n"
   ]
  },
  {
   "cell_type": "markdown",
   "metadata": {},
   "source": [
    "## ===== Hyper-parameters ====="
   ]
  },
  {
   "cell_type": "code",
   "execution_count": null,
   "metadata": {},
   "outputs": [],
   "source": [
    "# ======= price_features\n",
    "bid_price_features = ['Bid1', 'Bid2', 'Bid3', 'Bid4', 'Bid5'] \n",
    "ask_price_features = ['Ask1', 'Ask2', 'Ask3', 'Ask4', 'Ask5']\n",
    "\n",
    "\n",
    "# ======= size_features\n",
    "bid_size_features = ['Bid1Size', 'Bid2Size', 'Bid3Size', 'Bid4Size', 'Bid5Size']\n",
    "ask_size_features = ['Ask1Size', 'Ask2Size', 'Ask3Size', 'Ask4Size', 'Ask5Size']\n",
    "\n",
    "                      \n",
    "# ======= Data Path\n",
    "processed_data_path = 'features/'\n",
    "if not os.path.isdir(processed_data_path):\n",
    "    os.makedirs(processed_data_path)\n",
    "    print(\"made folder:\", processed_data_path)"
   ]
  },
  {
   "cell_type": "markdown",
   "metadata": {},
   "source": [
    "## ===== Load data ====="
   ]
  },
  {
   "cell_type": "code",
   "execution_count": null,
   "metadata": {},
   "outputs": [],
   "source": [
    "df_book = pd.read_parquet('./book')\n",
    "df_trade = pd.read_parquet('./trade')"
   ]
  },
  {
   "cell_type": "code",
   "execution_count": null,
   "metadata": {},
   "outputs": [],
   "source": [
    "df_book = df_book.sort_values(by=['TimeStamp'])\n",
    "df_book"
   ]
  },
  {
   "cell_type": "code",
   "execution_count": null,
   "metadata": {},
   "outputs": [],
   "source": [
    "df_book.describe()"
   ]
  },
  {
   "cell_type": "markdown",
   "metadata": {},
   "source": [
    "### Generate next_Bid1 and next_Ask1 column "
   ]
  },
  {
   "cell_type": "code",
   "execution_count": null,
   "metadata": {},
   "outputs": [],
   "source": [
    "# generate next_Bid1 next_Ask1 column \n",
    "# possible regularizers in some models, not features\n",
    "tmp_list = df_book['Bid1'][1:].values.tolist()\n",
    "tmp_list.append(np.nan)\n",
    "df_book = df_book.assign(nextBid1=tmp_list)\n",
    "\n",
    "# generate next_Ask1 column \n",
    "tmp_list = df_book['Ask1'][1:].values.tolist()\n",
    "tmp_list.append(np.nan)\n",
    "df_book = df_book.assign(nextAsk1=tmp_list)"
   ]
  },
  {
   "cell_type": "code",
   "execution_count": null,
   "metadata": {},
   "outputs": [],
   "source": [
    "# df_trade"
   ]
  },
  {
   "cell_type": "code",
   "execution_count": null,
   "metadata": {},
   "outputs": [],
   "source": []
  },
  {
   "cell_type": "markdown",
   "metadata": {},
   "source": [
    "## ===== Clean Data ====="
   ]
  },
  {
   "cell_type": "markdown",
   "metadata": {},
   "source": [
    "### Book data"
   ]
  },
  {
   "cell_type": "code",
   "execution_count": null,
   "metadata": {},
   "outputs": [],
   "source": [
    "pd.set_option('use_inf_as_na', True)"
   ]
  },
  {
   "cell_type": "code",
   "execution_count": null,
   "metadata": {},
   "outputs": [],
   "source": [
    "# ----- check null, na, nan \n",
    "\n",
    "print('df_book.isnull().sum()', df_book.isnull().sum())\n",
    "print('df_book.isnan().sum()', df_book.isna().sum())\n",
    "print(\"df_book.isna().sum()\", df_book.isna().sum())"
   ]
  },
  {
   "cell_type": "code",
   "execution_count": null,
   "metadata": {},
   "outputs": [],
   "source": [
    "# Drop all rows with NaN values\n",
    "# # Note: the nextAsk1 and nextBid1 in the next day will be droped here too\n",
    "df_book.dropna(how='any', axis=0, inplace=True) "
   ]
  },
  {
   "cell_type": "code",
   "execution_count": null,
   "metadata": {},
   "outputs": [],
   "source": [
    "# check null, na, nan \n",
    "\n",
    "print('df_book.isnull().sum()', df_book.isnull().sum())\n",
    "print('df_book.isnan().sum()', df_book.isna().sum())\n",
    "print(\"df_book.isna().sum()\", df_book.isna().sum())"
   ]
  },
  {
   "cell_type": "code",
   "execution_count": null,
   "metadata": {},
   "outputs": [],
   "source": [
    "### Trade data"
   ]
  },
  {
   "cell_type": "code",
   "execution_count": null,
   "metadata": {},
   "outputs": [],
   "source": [
    "# print('df_trade.isnull().sum()', df_trade.isnull().sum())\n",
    "# print('df_trade.isnan().sum()', df_trade.isna().sum())\n",
    "# print(\"df_trade.isna().sum()\", df_trade.isna().sum())"
   ]
  },
  {
   "cell_type": "code",
   "execution_count": null,
   "metadata": {},
   "outputs": [],
   "source": [
    "# # Drop all rows with NaN values\n",
    "# df_trade.dropna(how='any', axis=0, inplace=True) "
   ]
  },
  {
   "cell_type": "code",
   "execution_count": null,
   "metadata": {},
   "outputs": [],
   "source": [
    "# # check null, na, nan after MA\n",
    "\n",
    "# print('df_trade.isnull().sum()', df_trade.isnull().sum())\n",
    "# print('df_trade.isnan().sum()', df_trade.isna().sum())\n",
    "# print(\"df_trade.isna().sum()\", df_trade.isna().sum())"
   ]
  },
  {
   "cell_type": "markdown",
   "metadata": {},
   "source": [
    "## ====== Generate Features ======"
   ]
  },
  {
   "cell_type": "markdown",
   "metadata": {},
   "source": [
    "### ----- Price Statistical Features ----- "
   ]
  },
  {
   "cell_type": "code",
   "execution_count": null,
   "metadata": {},
   "outputs": [],
   "source": [
    "df_book['Ask_Total_Size'] = df_book[ask_size_features].sum(axis=1)\n",
    "df_book['Bid_Total_Size'] = df_book[bid_size_features].sum(axis=1)"
   ]
  },
  {
   "cell_type": "code",
   "execution_count": null,
   "metadata": {},
   "outputs": [],
   "source": [
    "# ----- weighted avg. (mean) of Bid and Ask\n",
    "\n",
    "df_book['Bid_Mean'] = (df_book['Bid1']*df_book['Bid1Size'] + df_book['Bid2']*df_book['Bid2Size'] + \\\n",
    "                             df_book['Bid3']*df_book['Bid3Size'] + df_book['Bid4']*df_book['Bid4Size'] + \\\n",
    "                             df_book['Bid5']*df_book['Bid5Size']) / df_book['Bid_Total_Size']\n",
    "\n",
    "\n",
    "df_book['Ask_Mean'] = (df_book['Ask1']*df_book['Ask1Size'] + df_book['Ask2']*df_book['Ask2Size'] + \\\n",
    "                             df_book['Ask3']*df_book['Ask3Size'] + df_book['Ask4']*df_book['Ask4Size'] + \\\n",
    "                             df_book['Ask5']*df_book['Ask5Size']) / df_book['Ask_Total_Size']\n",
    "\n",
    "df_book['Ask_Mean']"
   ]
  },
  {
   "cell_type": "code",
   "execution_count": null,
   "metadata": {},
   "outputs": [],
   "source": [
    "# ----- microprice\n",
    "\n",
    "# print(df_book)\n",
    "df_book['MicroPrice'] = df_book['Ask1']*df_book['Ask1Size'] + df_book['Bid1']*df_book['Bid1Size']\n",
    "df_book['MicroPrice'] = df_book['MicroPrice']/(df_book['Ask1Size'] + df_book['Bid1Size'])\n",
    "# print(df_book)"
   ]
  },
  {
   "cell_type": "markdown",
   "metadata": {},
   "source": [
    "### ----- Price Distance Features -----"
   ]
  },
  {
   "cell_type": "code",
   "execution_count": null,
   "metadata": {},
   "outputs": [],
   "source": [
    "# ----- speard features\n",
    "\n",
    "df_book['Spread1'] = (df_book['Ask1'] - df_book['Bid1']) / df_book['midpt']\n",
    "df_book['Spread2'] = (df_book['Ask2'] - df_book['Bid2']) / df_book['midpt']\n",
    "df_book['Spread3'] = (df_book['Ask3'] - df_book['Bid3']) / df_book['midpt']\n",
    "df_book['Spread4'] = (df_book['Ask4'] - df_book['Bid4']) / df_book['midpt']\n",
    "df_book['Spread5'] = (df_book['Ask5'] - df_book['Bid5']) / df_book['midpt']\n",
    "df_book['SpreadMean'] = (df_book['Ask_Mean'] - df_book['Bid_Mean']) / df_book['midpt']"
   ]
  },
  {
   "cell_type": "markdown",
   "metadata": {},
   "source": [
    "### ----- Size Ratio Features -----"
   ]
  },
  {
   "cell_type": "code",
   "execution_count": null,
   "metadata": {},
   "outputs": [],
   "source": [
    "# ----- size ratio features\n",
    "\n",
    "df_book['BidAskRatio1'] = df_book['Bid1Size'] / df_book['Ask1Size']\n",
    "df_book['BidAskRatio2'] = df_book['Bid2Size'] / df_book['Ask2Size']\n",
    "df_book['BidAskRatio3'] = df_book['Bid3Size'] / df_book['Ask3Size']\n",
    "df_book['BidAskRatio4'] = df_book['Bid4Size'] / df_book['Ask4Size']\n",
    "df_book['BidAskRatio5'] = df_book['Bid5Size'] / df_book['Ask5Size']\n",
    "df_book['BidAskRatioTotal'] = df_book['Bid_Total_Size'] / df_book['Ask_Total_Size']"
   ]
  },
  {
   "cell_type": "code",
   "execution_count": null,
   "metadata": {},
   "outputs": [],
   "source": [
    "# ----- Queue Imbalance features\n",
    "\n",
    "df_book['Q_ImB1'] = (df_book['Bid1Size'] - df_book['Ask1Size']) / (df_book['Bid1Size'] + df_book['Ask1Size'])\n",
    "df_book['Q_ImB2'] = (df_book['Bid2Size'] - df_book['Ask2Size']) / (df_book['Bid2Size'] + df_book['Ask2Size'])\n",
    "df_book['Q_ImB3'] = (df_book['Bid3Size'] - df_book['Ask3Size']) / (df_book['Bid3Size'] + df_book['Ask3Size'])\n",
    "df_book['Q_ImB4'] = (df_book['Bid4Size'] - df_book['Ask4Size']) / (df_book['Bid4Size'] + df_book['Ask4Size'])\n",
    "df_book['Q_ImB5'] = (df_book['Bid5Size'] - df_book['Ask5Size']) / (df_book['Bid5Size'] + df_book['Ask5Size'])"
   ]
  },
  {
   "cell_type": "markdown",
   "metadata": {},
   "source": [
    "### ----- Size Distribution Features -----"
   ]
  },
  {
   "cell_type": "code",
   "execution_count": null,
   "metadata": {},
   "outputs": [],
   "source": [
    "# Ask/Bid size distribution at time t \n",
    "\n",
    "print(df_book)  \n",
    "for feat in ask_size_features:\n",
    "    df_book[feat + 'Prop'] = df_book[feat]/df_book['Ask_Total_Size']\n",
    "    \n",
    "for feat in bid_size_features:\n",
    "    df_book[feat + 'Prop'] = df_book[feat]/df_book['Bid_Total_Size']"
   ]
  },
  {
   "cell_type": "code",
   "execution_count": null,
   "metadata": {},
   "outputs": [],
   "source": [
    "df_book"
   ]
  },
  {
   "cell_type": "markdown",
   "metadata": {},
   "source": [
    "## Save processed_data"
   ]
  },
  {
   "cell_type": "code",
   "execution_count": null,
   "metadata": {},
   "outputs": [],
   "source": [
    "df_book.to_csv(processed_data_path+'book.csv', index=False)\n",
    "df_trade.to_csv(processed_data_path+'trade.csv', index=False)"
   ]
  },
  {
   "cell_type": "markdown",
   "metadata": {},
   "source": [
    "## ======= Data pre-processed finished ======="
   ]
  },
  {
   "cell_type": "code",
   "execution_count": null,
   "metadata": {},
   "outputs": [],
   "source": []
  },
  {
   "cell_type": "code",
   "execution_count": null,
   "metadata": {},
   "outputs": [],
   "source": []
  },
  {
   "cell_type": "code",
   "execution_count": null,
   "metadata": {},
   "outputs": [],
   "source": []
  },
  {
   "cell_type": "code",
   "execution_count": null,
   "metadata": {},
   "outputs": [],
   "source": [
    "df_book = pd.read_parquet('./book')\n",
    "df_trade = pd.read_parquet('./trade')\n",
    "df_trade"
   ]
  },
  {
   "cell_type": "code",
   "execution_count": null,
   "metadata": {},
   "outputs": [],
   "source": [
    "df_book"
   ]
  },
  {
   "cell_type": "code",
   "execution_count": null,
   "metadata": {},
   "outputs": [],
   "source": [
    "df_trade['TimeStamp_s'] = df_trade['TimeStamp']//1000000\n",
    "df_tmp = df_trade[['TimeStamp_s', 'BuyVolume', 'BuyPrice', 'SellVolume', 'SellPrice']]\n",
    "df_book['TimeStamp_s'] = df_book['TimeStamp']//1000000"
   ]
  },
  {
   "cell_type": "code",
   "execution_count": null,
   "metadata": {},
   "outputs": [],
   "source": [
    "df_tmp.describe()"
   ]
  },
  {
   "cell_type": "code",
   "execution_count": null,
   "metadata": {},
   "outputs": [],
   "source": [
    "df_tmp = df_tmp.groupby('TimeStamp_s').agg({'BuyVolume':'sum', 'BuyPrice':'max', 'SellVolume':'sum', 'SellPrice':'max'})\n",
    "df_tmp"
   ]
  },
  {
   "cell_type": "code",
   "execution_count": null,
   "metadata": {},
   "outputs": [],
   "source": [
    "df_join = df_book.merge(df_tmp, how='left', on='TimeStamp_s')"
   ]
  },
  {
   "cell_type": "code",
   "execution_count": null,
   "metadata": {},
   "outputs": [],
   "source": [
    "df_join"
   ]
  },
  {
   "cell_type": "code",
   "execution_count": null,
   "metadata": {},
   "outputs": [],
   "source": [
    "print('df_join.isnull().sum()', df_join.isnull().sum())\n",
    "print('df_join.isnan().sum()', df_join.isna().sum())\n",
    "print(\"df_join.isna().sum()\", df_join.isna().sum())"
   ]
  },
  {
   "cell_type": "code",
   "execution_count": null,
   "metadata": {},
   "outputs": [],
   "source": []
  },
  {
   "cell_type": "code",
   "execution_count": null,
   "metadata": {},
   "outputs": [],
   "source": []
  },
  {
   "cell_type": "code",
   "execution_count": null,
   "metadata": {},
   "outputs": [],
   "source": []
  },
  {
   "cell_type": "code",
   "execution_count": null,
   "metadata": {},
   "outputs": [],
   "source": []
  }
 ],
 "metadata": {
  "kernelspec": {
   "display_name": "Python 3",
   "language": "python",
   "name": "python3"
  },
  "language_info": {
   "codemirror_mode": {
    "name": "ipython",
    "version": 3
   },
   "file_extension": ".py",
   "mimetype": "text/x-python",
   "name": "python",
   "nbconvert_exporter": "python",
   "pygments_lexer": "ipython3",
   "version": "3.6.3"
  }
 },
 "nbformat": 4,
 "nbformat_minor": 4
}
